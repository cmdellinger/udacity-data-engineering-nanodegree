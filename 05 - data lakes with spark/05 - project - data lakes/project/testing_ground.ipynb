{
 "cells": [
  {
   "cell_type": "markdown",
   "metadata": {},
   "source": [
    "# extract data"
   ]
  },
  {
   "cell_type": "code",
   "execution_count": null,
   "metadata": {},
   "outputs": [],
   "source": [
    "!unzip ./data/log-data.zip -d ./data/log_data/\n",
    "!unzip ./data/song-data.zip -d ./data/"
   ]
  },
  {
   "cell_type": "markdown",
   "metadata": {},
   "source": [
    "# import libraries"
   ]
  },
  {
   "cell_type": "code",
   "execution_count": 8,
   "metadata": {},
   "outputs": [],
   "source": [
    "import configparser\n",
    "from datetime import datetime\n",
    "import os\n",
    "from pyspark.sql import SparkSession\n",
    "from pyspark.sql.functions import udf, col, monotonically_increasing_id\n",
    "from pyspark.sql.functions import year, month, dayofmonth, hour, weekofyear, date_format\n",
    "from pyspark.sql.functions import to_date, to_timestamp"
   ]
  },
  {
   "cell_type": "markdown",
   "metadata": {},
   "source": [
    "# change Spark to local"
   ]
  },
  {
   "cell_type": "code",
   "execution_count": 6,
   "metadata": {},
   "outputs": [],
   "source": [
    "''' # commented out to test locally\n",
    "config = configparser.ConfigParser()\n",
    "config.read('dl.cfg')\n",
    "\n",
    "os.environ['AWS_ACCESS_KEY_ID']=config.get('AWS','AWS_ACCESS_KEY_ID')\n",
    "os.environ['AWS_SECRET_ACCESS_KEY']=config.get('AWS','AWS_SECRET_ACCESS_KEY')\n",
    "'''"
   ]
  },
  {
   "cell_type": "code",
   "execution_count": null,
   "metadata": {},
   "outputs": [],
   "source": [
    "''' # commented out to test locally\n",
    "def create_spark_session():\n",
    "    spark = SparkSession \\\n",
    "        .builder \\\n",
    "        .config(\"spark.jars.packages\", \"org.apache.hadoop:hadoop-aws:2.7.0\") \\\n",
    "        .getOrCreate()\n",
    "    return spark\n",
    "'''"
   ]
  },
  {
   "cell_type": "code",
   "execution_count": 2,
   "metadata": {},
   "outputs": [],
   "source": [
    "# local spark session to test locally\n",
    "def create_spark_session():\n",
    "    spark = SparkSession \\\n",
    "        .builder \\\n",
    "        .appName(\"Sparkify ETL\") \\\n",
    "        .getOrCreate()\n",
    "    return spark"
   ]
  },
  {
   "cell_type": "markdown",
   "metadata": {},
   "source": [
    "# check default load schema for `song_data`"
   ]
  },
  {
   "cell_type": "code",
   "execution_count": 35,
   "metadata": {},
   "outputs": [
    {
     "name": "stdout",
     "output_type": "stream",
     "text": [
      "root\n",
      " |-- artist_id: string (nullable = true)\n",
      " |-- artist_latitude: double (nullable = true)\n",
      " |-- artist_location: string (nullable = true)\n",
      " |-- artist_longitude: double (nullable = true)\n",
      " |-- artist_name: string (nullable = true)\n",
      " |-- duration: double (nullable = true)\n",
      " |-- num_songs: long (nullable = true)\n",
      " |-- song_id: string (nullable = true)\n",
      " |-- title: string (nullable = true)\n",
      " |-- year: long (nullable = true)\n",
      "\n"
     ]
    }
   ],
   "source": [
    "song_data = 'data/song_data/*/*/*/*.json'\n",
    "df = spark.read.json(song_data)\n",
    "df.printSchema()"
   ]
  },
  {
   "cell_type": "markdown",
   "metadata": {},
   "source": [
    "# function for processing `song_data`"
   ]
  },
  {
   "cell_type": "code",
   "execution_count": 5,
   "metadata": {},
   "outputs": [],
   "source": [
    "def process_song_data(spark, input_data, output_data):\n",
    "    # get filepath to song data file\n",
    "    song_data = os.path.join(input_data, 'song_data/*/*/*/*.json')\n",
    "    \n",
    "    # read song data file\n",
    "    df = spark.read.json(song_data)\n",
    "\n",
    "    # extract columns to create songs table\n",
    "    songs_table = df.select(\"song_id\", \\\n",
    "                            \"title\", \\\n",
    "                            \"artist_id\", \\\n",
    "                            \"year\", \\\n",
    "                            \"duration\") \\\n",
    "                    .dropDuplicates()\n",
    "    \n",
    "    # write songs table to parquet files partitioned by year and artist\n",
    "    songs_table.write.parquet(os.path.join(output_data, \"songs_table\"), \\\n",
    "                              mode='overwrite', \\\n",
    "                              partitionBy=[\"year\",\"artist_id\"])\n",
    "\n",
    "    # extract columns to create artists table\n",
    "    artists_table = df.select(['artist_id', \\\n",
    "                               col('artist_name').alias('name'), \\\n",
    "                               col('artist_location').alias('location'), \\\n",
    "                               col('artist_latitude').alias('latitude'), \\\n",
    "                               col('artist_longitude').alias('longitude')]) \\\n",
    "                      .dropDuplicates()\n",
    "    \n",
    "    # write artists table to parquet files\n",
    "    artists_table.write.parquet(os.path.join(output_data, \"artists_table\"),\n",
    "                                mode='overwrite')"
   ]
  },
  {
   "cell_type": "markdown",
   "metadata": {},
   "source": [
    "# check default load schema for `log_data`"
   ]
  },
  {
   "cell_type": "code",
   "execution_count": 42,
   "metadata": {},
   "outputs": [
    {
     "name": "stdout",
     "output_type": "stream",
     "text": [
      "root\n",
      " |-- artist: string (nullable = true)\n",
      " |-- auth: string (nullable = true)\n",
      " |-- firstName: string (nullable = true)\n",
      " |-- gender: string (nullable = true)\n",
      " |-- itemInSession: long (nullable = true)\n",
      " |-- lastName: string (nullable = true)\n",
      " |-- length: double (nullable = true)\n",
      " |-- level: string (nullable = true)\n",
      " |-- location: string (nullable = true)\n",
      " |-- method: string (nullable = true)\n",
      " |-- page: string (nullable = true)\n",
      " |-- registration: double (nullable = true)\n",
      " |-- sessionId: long (nullable = true)\n",
      " |-- song: string (nullable = true)\n",
      " |-- status: long (nullable = true)\n",
      " |-- ts: long (nullable = true)\n",
      " |-- userAgent: string (nullable = true)\n",
      " |-- userId: string (nullable = true)\n",
      "\n"
     ]
    }
   ],
   "source": [
    "log_data = 'data/log_data/*.json'\n",
    "df = spark.read.json(log_data)\n",
    "df.printSchema()"
   ]
  },
  {
   "cell_type": "markdown",
   "metadata": {},
   "source": [
    "# function for processing `log_data`"
   ]
  },
  {
   "cell_type": "code",
   "execution_count": 1,
   "metadata": {},
   "outputs": [],
   "source": [
    "def process_log_data(spark, input_data, output_data):\n",
    "    # get filepath to log data file\n",
    "    log_data = os.path.join(input_data, 'log_data/*.json')\n",
    "\n",
    "    # read log data file\n",
    "    df = spark.read.json(log_data)\n",
    "    \n",
    "    # filter by actions for song plays\n",
    "    df = df.filter(df.page == 'NextSong')\n",
    "\n",
    "    # extract columns for users table\n",
    "    users_table = df.select([col('userId').alias('user_id'), \\\n",
    "                             col('firstName').alias('first_name'), \\\n",
    "                             col('lastName').alias('last_name'), \\\n",
    "                             'gender', \\\n",
    "                             'level']) \\\n",
    "                    .dropDuplicates()\n",
    "    \n",
    "    # write users table to parquet files\n",
    "    users_table.write.parquet(os.path.join(output_data, \"users_table\"), \\\n",
    "                              mode='overwrite')\n",
    "\n",
    "    # create timestamp column from original timestamp column\n",
    "    # get_timestamp = udf()\n",
    "    df = df.withColumn('timestamp', to_timestamp(df.ts/1000))\n",
    "    \n",
    "    # create datetime column from original timestamp column\n",
    "    # get_datetime = udf()\n",
    "    df = df.withColumn('datetime', to_date(df.timestamp))\n",
    "    \n",
    "    # extract columns to create time table\n",
    "    # start_time, hour, day, week, month, year, weekday\n",
    "    time_table = df.select([col('timestamp').alias('start_time'), \\\n",
    "                            hour(col('datetime')).alias('hour'), \\\n",
    "                            dayofmonth(col('datetime')).alias('day'), \\\n",
    "                            weekofyear(col('datetime')).alias('week'), \\\n",
    "                            month(col('datetime')).alias('month'), \\\n",
    "                            year(col('datetime')).alias('year'), \\\n",
    "                            date_format(col('datetime'), 'E').alias('weekday')]) \\\n",
    "                    .dropDuplicates()\n",
    "    \n",
    "    # write time table to parquet files partitioned by year and month\n",
    "    time_table.write.parquet(os.path.join(output_data, \"time_table\"), \\\n",
    "                             mode='overwrite', \\\n",
    "                             partitionBy=[\"year\",\"month\"])\n",
    "    \n",
    "    # read in song data to use for songplays table\n",
    "    song_df = spark.read.parquet(os.path.join(output_data, 'songs_table'))\n",
    "\n",
    "    # extract columns from joined song and log datasets to create songplays table\n",
    "    # songplay_id, start_time, user_id, level, song_id, artist_id, session_id, location, user_agent\n",
    "    songplays_table = df.join(song_df, df.song == song_df.title) \\\n",
    "                        .select(col('timestamp').alias('start_time'), \\\n",
    "                                col('userId').alias('user_id'), \\\n",
    "                                'level', \\\n",
    "                                'song_id', \\\n",
    "                                'artist_id', \\\n",
    "                                col('sessionId').alias('session_id'), \\\n",
    "                                'location', \\\n",
    "                                col('userAgent').alias('user_agent'), \\\n",
    "                                year('timestamp').alias('year'), \\\n",
    "                                month('timestamp').alias('month')) \\\n",
    "                        .dropDuplicates() \\\n",
    "                        .withColumn('songplay_id', monotonically_increasing_id())\n",
    "\n",
    "    # write songplays table to parquet files partitioned by year and month\n",
    "    songplays_table.write.parquet(os.path.join(output_data, \"songplays_table\"), \\\n",
    "                             mode='overwrite', \\\n",
    "                             partitionBy=[\"year\",\"month\"])"
   ]
  },
  {
   "cell_type": "markdown",
   "metadata": {},
   "source": [
    "# run ETL pipeline to process data"
   ]
  },
  {
   "cell_type": "code",
   "execution_count": 9,
   "metadata": {},
   "outputs": [],
   "source": [
    "spark = create_spark_session()\n",
    "input_data = \"data\" # \"s3a://udacity-dend/\"\n",
    "output_data = \"test\"\n",
    "\n",
    "process_song_data(spark, input_data, output_data)    \n",
    "process_log_data(spark, input_data, output_data)"
   ]
  },
  {
   "cell_type": "markdown",
   "metadata": {},
   "source": [
    "# check loading of parquet files and verify table contents"
   ]
  },
  {
   "cell_type": "code",
   "execution_count": 12,
   "metadata": {},
   "outputs": [
    {
     "name": "stdout",
     "output_type": "stream",
     "text": [
      "artists_table\n",
      "root\n",
      " |-- artist_id: string (nullable = true)\n",
      " |-- name: string (nullable = true)\n",
      " |-- location: string (nullable = true)\n",
      " |-- latitude: double (nullable = true)\n",
      " |-- longitude: double (nullable = true)\n",
      "\n",
      "            artist_id                                               name  \\\n",
      "0  ARDR4AC1187FB371A1  Montserrat Caballé;Placido Domingo;Vicente Sar...   \n",
      "1  ARMAC4T1187FB3FA4C                          The Dillinger Escape Plan   \n",
      "2  ARNF6401187FB57032                                  Sophie B. Hawkins   \n",
      "3  AROUOZZ1187B9ABE51                                        Willie Bobo   \n",
      "4  ARI2JSK1187FB496EF                           Nick Ingman;Gavyn Wright   \n",
      "\n",
      "                        location  latitude  longitude  \n",
      "0                                      NaN        NaN  \n",
      "1              Morris Plains, NJ  40.82624  -74.47995  \n",
      "2       New York, NY [Manhattan]  40.79086  -73.96644  \n",
      "3  New York, NY [Spanish Harlem]  40.79195  -73.94512  \n",
      "4                London, England  51.50632   -0.12714  \n",
      "time_table\n",
      "root\n",
      " |-- start_time: timestamp (nullable = true)\n",
      " |-- hour: integer (nullable = true)\n",
      " |-- day: integer (nullable = true)\n",
      " |-- week: integer (nullable = true)\n",
      " |-- weekday: string (nullable = true)\n",
      " |-- year: integer (nullable = true)\n",
      " |-- month: integer (nullable = true)\n",
      "\n",
      "               start_time  hour  day  week weekday  year  month\n",
      "0 2018-11-15 17:41:24.796     0   15    46     Thu  2018     11\n",
      "1 2018-11-15 18:37:08.796     0   15    46     Thu  2018     11\n",
      "2 2018-11-15 19:54:24.796     0   15    46     Thu  2018     11\n",
      "3 2018-11-15 21:24:56.796     0   15    46     Thu  2018     11\n",
      "4 2018-11-21 13:58:11.796     0   21    47     Wed  2018     11\n",
      "users_table\n",
      "root\n",
      " |-- user_id: string (nullable = true)\n",
      " |-- first_name: string (nullable = true)\n",
      " |-- last_name: string (nullable = true)\n",
      " |-- gender: string (nullable = true)\n",
      " |-- level: string (nullable = true)\n",
      "\n",
      "  user_id  first_name  last_name gender level\n",
      "0      88    Mohammad  Rodriguez      M  free\n",
      "1      69    Anabelle    Simpson      F  free\n",
      "2      75      Joseph  Gutierrez      M  free\n",
      "3      29  Jacqueline      Lynch      F  free\n",
      "4      68      Jordan  Rodriguez      F  free\n",
      "songs_table\n",
      "root\n",
      " |-- song_id: string (nullable = true)\n",
      " |-- title: string (nullable = true)\n",
      " |-- duration: double (nullable = true)\n",
      " |-- year: integer (nullable = true)\n",
      " |-- artist_id: string (nullable = true)\n",
      "\n",
      "              song_id                                              title  \\\n",
      "0  SOAOIBZ12AB01815BE  I Hold Your Hand In Mine [Live At Royal Albert...   \n",
      "1  SONYPOM12A8C13B2D7  I Think My Wife Is Running Around On Me (Taco ...   \n",
      "2  SODREIN12A58A7F2E5      A Whiter Shade Of Pale (Live @ Fillmore West)   \n",
      "3  SOYMRWW12A6D4FAB14        The Moon And I (Ordinary Day Album Version)   \n",
      "4  SOWQTQZ12A58A7B63E           Streets On Fire (Explicit Album Version)   \n",
      "\n",
      "    duration  year           artist_id  \n",
      "0   43.36281  2000  ARPBNLO1187FB3D52F  \n",
      "1  186.48771  2005  ARDNS031187B9924F0  \n",
      "2  326.00771     0  ARLTWXK1187FB5A3F8  \n",
      "3  267.70240     0  ARKFYS91187B98E58F  \n",
      "4  279.97995     0  ARPFHN61187FB575F6  \n",
      "songplays_table\n",
      "root\n",
      " |-- start_time: timestamp (nullable = true)\n",
      " |-- user_id: string (nullable = true)\n",
      " |-- level: string (nullable = true)\n",
      " |-- song_id: string (nullable = true)\n",
      " |-- artist_id: string (nullable = true)\n",
      " |-- session_id: long (nullable = true)\n",
      " |-- location: string (nullable = true)\n",
      " |-- user_agent: string (nullable = true)\n",
      " |-- songplay_id: long (nullable = true)\n",
      " |-- year: integer (nullable = true)\n",
      " |-- month: integer (nullable = true)\n",
      "\n",
      "               start_time user_id level             song_id  \\\n",
      "0 2018-11-21 21:56:47.796      15  paid  SOZCTXZ12AB0182364   \n",
      "1 2018-11-14 05:06:03.796      10  free  SOGDBUF12A8C140FAA   \n",
      "2 2018-11-27 22:35:59.796      80  paid  SOGDBUF12A8C140FAA   \n",
      "3 2018-11-19 09:14:20.796      24  paid  SOGDBUF12A8C140FAA   \n",
      "\n",
      "            artist_id  session_id  \\\n",
      "0  AR5KOSW1187FB35FF4         818   \n",
      "1  AR558FS1187FB45658         484   \n",
      "2  AR558FS1187FB45658         992   \n",
      "3  AR558FS1187FB45658         672   \n",
      "\n",
      "                                       location  \\\n",
      "0            Chicago-Naperville-Elgin, IL-IN-WI   \n",
      "1  Washington-Arlington-Alexandria, DC-VA-MD-WV   \n",
      "2                   Portland-South Portland, ME   \n",
      "3                  Lake Havasu City-Kingman, AZ   \n",
      "\n",
      "                                          user_agent    songplay_id  year  \\\n",
      "0  \"Mozilla/5.0 (X11; Linux x86_64) AppleWebKit/5...   644245094400  2018   \n",
      "1  \"Mozilla/5.0 (Macintosh; Intel Mac OS X 10_9_4...  1125281431552  2018   \n",
      "2  \"Mozilla/5.0 (Macintosh; Intel Mac OS X 10_9_4...  1254130450432  2018   \n",
      "3  \"Mozilla/5.0 (Windows NT 6.1; WOW64) AppleWebK...    60129542144  2018   \n",
      "\n",
      "   month  \n",
      "0     11  \n",
      "1     11  \n",
      "2     11  \n",
      "3     11  \n"
     ]
    }
   ],
   "source": [
    "for table in ['artists_table', 'time_table', 'users_table', 'songs_table', 'songplays_table']:\n",
    "    print(table)\n",
    "    table_df = spark.read.parquet(os.path.join(output_data, table))\n",
    "    table_df.printSchema()\n",
    "    print(table_df.limit(5).toPandas())"
   ]
  },
  {
   "cell_type": "markdown",
   "metadata": {},
   "source": [
    "# clean up workspace"
   ]
  },
  {
   "cell_type": "code",
   "execution_count": 2,
   "metadata": {},
   "outputs": [
    {
     "name": "stdout",
     "output_type": "stream",
     "text": [
      "rm: cannot remove './test/': No such file or directory\n"
     ]
    }
   ],
   "source": [
    "!rm -r ./data/log_data/\n",
    "!rm -r ./data/song_data/\n",
    "!rm -r ./test/"
   ]
  },
  {
   "cell_type": "code",
   "execution_count": null,
   "metadata": {},
   "outputs": [],
   "source": []
  }
 ],
 "metadata": {
  "kernelspec": {
   "display_name": "Python 3",
   "language": "python",
   "name": "python3"
  },
  "language_info": {
   "codemirror_mode": {
    "name": "ipython",
    "version": 3
   },
   "file_extension": ".py",
   "mimetype": "text/x-python",
   "name": "python",
   "nbconvert_exporter": "python",
   "pygments_lexer": "ipython3",
   "version": "3.6.3"
  }
 },
 "nbformat": 4,
 "nbformat_minor": 2
}
