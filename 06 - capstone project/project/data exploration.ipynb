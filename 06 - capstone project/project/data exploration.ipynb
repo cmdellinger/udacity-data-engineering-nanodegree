{
 "cells": [
  {
   "cell_type": "markdown",
   "metadata": {},
   "source": [
    "# Data Exploration"
   ]
  },
  {
   "cell_type": "code",
   "execution_count": 1,
   "metadata": {},
   "outputs": [],
   "source": [
    "import numpy as np\n",
    "import pandas as pd\n",
    "import requests\n",
    "import os\n",
    "import sys\n",
    "from zipfile import ZipFile"
   ]
  },
  {
   "cell_type": "markdown",
   "metadata": {},
   "source": [
    "### Download Test Files"
   ]
  },
  {
   "cell_type": "code",
   "execution_count": 2,
   "metadata": {},
   "outputs": [],
   "source": [
    "def get_file_from_url(url):\n",
    "    # check for file name from url, otherwise download programatically\n",
    "    file_name = url.split('/')[-1]\n",
    "    if not os.path.isfile(file_name):\n",
    "        print(f\"file {file_name} doesn't exist\")\n",
    "        print(f\"downloading {file_name}\\n\")\n",
    "        with open(file_name, mode = 'wb') as file:\n",
    "            file.write(requests.get(url).content)\n",
    "    else:\n",
    "        print(f'file {file_name} already exists\\n')"
   ]
  },
  {
   "cell_type": "code",
   "execution_count": 3,
   "metadata": {},
   "outputs": [
    {
     "name": "stdout",
     "output_type": "stream",
     "text": [
      "file hourly_TEMP_2016.zip already exists\n",
      "\n",
      "file hourly_42101_2016.zip already exists\n",
      "\n"
     ]
    }
   ],
   "source": [
    "get_file_from_url('https://aqs.epa.gov/aqsweb/airdata/hourly_TEMP_2016.zip')\n",
    "get_file_from_url('https://aqs.epa.gov/aqsweb/airdata/hourly_42101_2016.zip')"
   ]
  },
  {
   "cell_type": "markdown",
   "metadata": {},
   "source": [
    "Loading Parameters:\n",
    "+ 'Qualifier' is getting auto-detected as `int`, but then throwing an error because it contains strings\n",
    "+ Dates and Times are loaded as objects so they can be concatenated to a single datetime."
   ]
  },
  {
   "cell_type": "markdown",
   "metadata": {},
   "source": [
    "### Temperature"
   ]
  },
  {
   "cell_type": "code",
   "execution_count": 4,
   "metadata": {},
   "outputs": [],
   "source": [
    "temp_df = pd.read_csv('hourly_TEMP_2016.zip', dtype={'Qualifier': 'object',\n",
    "                                                     'Date Local': 'object',\n",
    "                                                     'Time Local': 'object',\n",
    "                                                     'Date GMT': 'object',\n",
    "                                                     'Time GMT': 'object'})"
   ]
  },
  {
   "cell_type": "markdown",
   "metadata": {},
   "source": [
    "Look at current data schema:"
   ]
  },
  {
   "cell_type": "code",
   "execution_count": 5,
   "metadata": {},
   "outputs": [
    {
     "name": "stdout",
     "output_type": "stream",
     "text": [
      "<class 'pandas.core.frame.DataFrame'>\n",
      "RangeIndex: 7141394 entries, 0 to 7141393\n",
      "Data columns (total 24 columns):\n",
      "State Code             int64\n",
      "County Code            int64\n",
      "Site Num               int64\n",
      "Parameter Code         int64\n",
      "POC                    int64\n",
      "Latitude               float64\n",
      "Longitude              float64\n",
      "Datum                  object\n",
      "Parameter Name         object\n",
      "Date Local             object\n",
      "Time Local             object\n",
      "Date GMT               object\n",
      "Time GMT               object\n",
      "Sample Measurement     float64\n",
      "Units of Measure       object\n",
      "MDL                    float64\n",
      "Uncertainty            float64\n",
      "Qualifier              object\n",
      "Method Type            object\n",
      "Method Code            int64\n",
      "Method Name            object\n",
      "State Name             object\n",
      "County Name            object\n",
      "Date of Last Change    object\n",
      "dtypes: float64(5), int64(6), object(13)\n",
      "memory usage: 1.3+ GB\n"
     ]
    }
   ],
   "source": [
    "temp_df.info()"
   ]
  },
  {
   "cell_type": "markdown",
   "metadata": {},
   "source": [
    "can go to own table:\n",
    "+ Method Type and Method Code, Method Name\n",
    "+ State Name and State Code\n",
    "+ County Code and County Name\n",
    "+ Site Num, Latitude, Longitude\n",
    "+ Parameter Name, Parameter Code"
   ]
  },
  {
   "cell_type": "markdown",
   "metadata": {},
   "source": [
    "briefly check fields to see what has multiple/unique values:"
   ]
  },
  {
   "cell_type": "code",
   "execution_count": 6,
   "metadata": {},
   "outputs": [
    {
     "data": {
      "text/plain": [
       "0    Degrees Fahrenheit\n",
       "Name: Units of Measure, dtype: object"
      ]
     },
     "execution_count": 6,
     "metadata": {},
     "output_type": "execute_result"
    }
   ],
   "source": [
    "temp_df['Units of Measure'].drop_duplicates()"
   ]
  },
  {
   "cell_type": "markdown",
   "metadata": {},
   "source": [
    "The rows seem to have the same unit of measure."
   ]
  },
  {
   "cell_type": "code",
   "execution_count": 7,
   "metadata": {},
   "outputs": [
    {
     "data": {
      "text/html": [
       "<div>\n",
       "<style scoped>\n",
       "    .dataframe tbody tr th:only-of-type {\n",
       "        vertical-align: middle;\n",
       "    }\n",
       "\n",
       "    .dataframe tbody tr th {\n",
       "        vertical-align: top;\n",
       "    }\n",
       "\n",
       "    .dataframe thead th {\n",
       "        text-align: right;\n",
       "    }\n",
       "</style>\n",
       "<table border=\"1\" class=\"dataframe\">\n",
       "  <thead>\n",
       "    <tr style=\"text-align: right;\">\n",
       "      <th></th>\n",
       "      <th>Site Num</th>\n",
       "      <th>Latitude</th>\n",
       "      <th>Longitude</th>\n",
       "    </tr>\n",
       "  </thead>\n",
       "  <tbody>\n",
       "    <tr>\n",
       "      <th>6155548</th>\n",
       "      <td>1</td>\n",
       "      <td>43.466111</td>\n",
       "      <td>-88.621111</td>\n",
       "    </tr>\n",
       "    <tr>\n",
       "      <th>1992474</th>\n",
       "      <td>1</td>\n",
       "      <td>33.588545</td>\n",
       "      <td>-84.069608</td>\n",
       "    </tr>\n",
       "    <tr>\n",
       "      <th>690117</th>\n",
       "      <td>1</td>\n",
       "      <td>37.645710</td>\n",
       "      <td>-118.966520</td>\n",
       "    </tr>\n",
       "    <tr>\n",
       "      <th>1940948</th>\n",
       "      <td>1</td>\n",
       "      <td>33.582044</td>\n",
       "      <td>-82.131249</td>\n",
       "    </tr>\n",
       "    <tr>\n",
       "      <th>1932932</th>\n",
       "      <td>1</td>\n",
       "      <td>30.092500</td>\n",
       "      <td>-84.161111</td>\n",
       "    </tr>\n",
       "    <tr>\n",
       "      <th>3146392</th>\n",
       "      <td>1</td>\n",
       "      <td>42.228620</td>\n",
       "      <td>-83.208200</td>\n",
       "    </tr>\n",
       "    <tr>\n",
       "      <th>196968</th>\n",
       "      <td>1</td>\n",
       "      <td>38.201850</td>\n",
       "      <td>-120.680277</td>\n",
       "    </tr>\n",
       "    <tr>\n",
       "      <th>3884438</th>\n",
       "      <td>1</td>\n",
       "      <td>40.515262</td>\n",
       "      <td>-74.806671</td>\n",
       "    </tr>\n",
       "    <tr>\n",
       "      <th>3128917</th>\n",
       "      <td>1</td>\n",
       "      <td>46.288877</td>\n",
       "      <td>-85.950227</td>\n",
       "    </tr>\n",
       "    <tr>\n",
       "      <th>3291117</th>\n",
       "      <td>1</td>\n",
       "      <td>37.690000</td>\n",
       "      <td>-94.035000</td>\n",
       "    </tr>\n",
       "  </tbody>\n",
       "</table>\n",
       "</div>"
      ],
      "text/plain": [
       "         Site Num   Latitude   Longitude\n",
       "6155548         1  43.466111  -88.621111\n",
       "1992474         1  33.588545  -84.069608\n",
       "690117          1  37.645710 -118.966520\n",
       "1940948         1  33.582044  -82.131249\n",
       "1932932         1  30.092500  -84.161111\n",
       "3146392         1  42.228620  -83.208200\n",
       "196968          1  38.201850 -120.680277\n",
       "3884438         1  40.515262  -74.806671\n",
       "3128917         1  46.288877  -85.950227\n",
       "3291117         1  37.690000  -94.035000"
      ]
     },
     "execution_count": 7,
     "metadata": {},
     "output_type": "execute_result"
    }
   ],
   "source": [
    "temp_df[['Site Num', 'Latitude', 'Longitude']].drop_duplicates().sort_values('Site Num').head(10)"
   ]
  },
  {
   "cell_type": "markdown",
   "metadata": {},
   "source": [
    "Sites seem to not take the readings in the same location."
   ]
  },
  {
   "cell_type": "code",
   "execution_count": 8,
   "metadata": {},
   "outputs": [
    {
     "data": {
      "text/plain": [
       "0          NaN\n",
       "247307      SX\n",
       "258514       1\n",
       "499046       2\n",
       "2460823     IM\n",
       "5761358      3\n",
       "Name: Qualifier, dtype: object"
      ]
     },
     "execution_count": 8,
     "metadata": {},
     "output_type": "execute_result"
    }
   ],
   "source": [
    "temp_df['Qualifier'].drop_duplicates()"
   ]
  },
  {
   "cell_type": "code",
   "execution_count": 9,
   "metadata": {},
   "outputs": [
    {
     "data": {
      "text/plain": [
       "Outdoor Temperature    7141394\n",
       "Name: Parameter Name, dtype: int64"
      ]
     },
     "execution_count": 9,
     "metadata": {},
     "output_type": "execute_result"
    }
   ],
   "source": [
    "temp_df['Parameter Name'].value_counts()"
   ]
  },
  {
   "cell_type": "code",
   "execution_count": 10,
   "metadata": {},
   "outputs": [
    {
     "data": {
      "text/html": [
       "<div>\n",
       "<style scoped>\n",
       "    .dataframe tbody tr th:only-of-type {\n",
       "        vertical-align: middle;\n",
       "    }\n",
       "\n",
       "    .dataframe tbody tr th {\n",
       "        vertical-align: top;\n",
       "    }\n",
       "\n",
       "    .dataframe thead th {\n",
       "        text-align: right;\n",
       "    }\n",
       "</style>\n",
       "<table border=\"1\" class=\"dataframe\">\n",
       "  <thead>\n",
       "    <tr style=\"text-align: right;\">\n",
       "      <th></th>\n",
       "      <th>Method Code</th>\n",
       "      <th>Method Type</th>\n",
       "      <th>Method Name</th>\n",
       "    </tr>\n",
       "  </thead>\n",
       "  <tbody>\n",
       "    <tr>\n",
       "      <th>0</th>\n",
       "      <td>61</td>\n",
       "      <td>Non-FRM</td>\n",
       "      <td>Instrumental - Met One 083D</td>\n",
       "    </tr>\n",
       "    <tr>\n",
       "      <th>16334</th>\n",
       "      <td>41</td>\n",
       "      <td>Non-FRM</td>\n",
       "      <td>INSTRUMENTAL - ELEC. OR MACH. AVG. LEVEL 1</td>\n",
       "    </tr>\n",
       "    <tr>\n",
       "      <th>42482</th>\n",
       "      <td>40</td>\n",
       "      <td>Non-FRM</td>\n",
       "      <td>INSTRUMENTAL - ELECTRONIC OR MACHINE AVG.</td>\n",
       "    </tr>\n",
       "    <tr>\n",
       "      <th>165206</th>\n",
       "      <td>59</td>\n",
       "      <td>Non-FRM</td>\n",
       "      <td>Instrumental - Vaisala HMP 155</td>\n",
       "    </tr>\n",
       "    <tr>\n",
       "      <th>545237</th>\n",
       "      <td>22</td>\n",
       "      <td>Non-FRM</td>\n",
       "      <td>INSTRUMENTAL - SPOT READING LEVEL 2</td>\n",
       "    </tr>\n",
       "    <tr>\n",
       "      <th>707645</th>\n",
       "      <td>50</td>\n",
       "      <td>Non-FRM</td>\n",
       "      <td>Instrumental - Visual average</td>\n",
       "    </tr>\n",
       "    <tr>\n",
       "      <th>742738</th>\n",
       "      <td>63</td>\n",
       "      <td>Non-FRM</td>\n",
       "      <td>Instrumental - Rotronic HC2-S3</td>\n",
       "    </tr>\n",
       "    <tr>\n",
       "      <th>867893</th>\n",
       "      <td>42</td>\n",
       "      <td>Non-FRM</td>\n",
       "      <td>INSTRUMENTAL - ELEC. OR MACH. AVG. LEVEL 2</td>\n",
       "    </tr>\n",
       "    <tr>\n",
       "      <th>1891699</th>\n",
       "      <td>60</td>\n",
       "      <td>Non-FRM</td>\n",
       "      <td>Instrumental - Vaisala 435C RH/AT Sensor</td>\n",
       "    </tr>\n",
       "    <tr>\n",
       "      <th>2012826</th>\n",
       "      <td>20</td>\n",
       "      <td>Non-FRM</td>\n",
       "      <td>INSTRUMENTAL - SPOT READING</td>\n",
       "    </tr>\n",
       "    <tr>\n",
       "      <th>2607905</th>\n",
       "      <td>803</td>\n",
       "      <td>Non-FRM</td>\n",
       "      <td>Instrumental - Off Site temperature sensor</td>\n",
       "    </tr>\n",
       "    <tr>\n",
       "      <th>6757145</th>\n",
       "      <td>43</td>\n",
       "      <td>Non-FRM</td>\n",
       "      <td>INSTRUMENTAL - ELEC. OR MACH. AVG. LEVEL 3</td>\n",
       "    </tr>\n",
       "  </tbody>\n",
       "</table>\n",
       "</div>"
      ],
      "text/plain": [
       "         Method Code Method Type                                 Method Name\n",
       "0                 61     Non-FRM                 Instrumental - Met One 083D\n",
       "16334             41     Non-FRM  INSTRUMENTAL - ELEC. OR MACH. AVG. LEVEL 1\n",
       "42482             40     Non-FRM   INSTRUMENTAL - ELECTRONIC OR MACHINE AVG.\n",
       "165206            59     Non-FRM              Instrumental - Vaisala HMP 155\n",
       "545237            22     Non-FRM         INSTRUMENTAL - SPOT READING LEVEL 2\n",
       "707645            50     Non-FRM               Instrumental - Visual average\n",
       "742738            63     Non-FRM              Instrumental - Rotronic HC2-S3\n",
       "867893            42     Non-FRM  INSTRUMENTAL - ELEC. OR MACH. AVG. LEVEL 2\n",
       "1891699           60     Non-FRM    Instrumental - Vaisala 435C RH/AT Sensor\n",
       "2012826           20     Non-FRM                 INSTRUMENTAL - SPOT READING\n",
       "2607905          803     Non-FRM  Instrumental - Off Site temperature sensor\n",
       "6757145           43     Non-FRM  INSTRUMENTAL - ELEC. OR MACH. AVG. LEVEL 3"
      ]
     },
     "execution_count": 10,
     "metadata": {},
     "output_type": "execute_result"
    }
   ],
   "source": [
    "temp_df[['Method Code', 'Method Type', 'Method Name']].drop_duplicates()"
   ]
  },
  {
   "cell_type": "code",
   "execution_count": 11,
   "metadata": {},
   "outputs": [
    {
     "data": {
      "text/html": [
       "<div>\n",
       "<style scoped>\n",
       "    .dataframe tbody tr th:only-of-type {\n",
       "        vertical-align: middle;\n",
       "    }\n",
       "\n",
       "    .dataframe tbody tr th {\n",
       "        vertical-align: top;\n",
       "    }\n",
       "\n",
       "    .dataframe thead th {\n",
       "        text-align: right;\n",
       "    }\n",
       "</style>\n",
       "<table border=\"1\" class=\"dataframe\">\n",
       "  <thead>\n",
       "    <tr style=\"text-align: right;\">\n",
       "      <th></th>\n",
       "      <th>State Code</th>\n",
       "      <th>State Name</th>\n",
       "    </tr>\n",
       "  </thead>\n",
       "  <tbody>\n",
       "    <tr>\n",
       "      <th>7129359</th>\n",
       "      <td>80</td>\n",
       "      <td>Country Of Mexico</td>\n",
       "    </tr>\n",
       "    <tr>\n",
       "      <th>7121848</th>\n",
       "      <td>72</td>\n",
       "      <td>Puerto Rico</td>\n",
       "    </tr>\n",
       "    <tr>\n",
       "      <th>6300719</th>\n",
       "      <td>56</td>\n",
       "      <td>Wyoming</td>\n",
       "    </tr>\n",
       "    <tr>\n",
       "      <th>6133256</th>\n",
       "      <td>55</td>\n",
       "      <td>Wisconsin</td>\n",
       "    </tr>\n",
       "    <tr>\n",
       "      <th>6115908</th>\n",
       "      <td>54</td>\n",
       "      <td>West Virginia</td>\n",
       "    </tr>\n",
       "  </tbody>\n",
       "</table>\n",
       "</div>"
      ],
      "text/plain": [
       "         State Code         State Name\n",
       "7129359          80  Country Of Mexico\n",
       "7121848          72        Puerto Rico\n",
       "6300719          56            Wyoming\n",
       "6133256          55          Wisconsin\n",
       "6115908          54      West Virginia"
      ]
     },
     "execution_count": 11,
     "metadata": {},
     "output_type": "execute_result"
    }
   ],
   "source": [
    "temp_df[['State Code', 'State Name']].drop_duplicates().sort_values('State Code', ascending=False).head()"
   ]
  },
  {
   "cell_type": "markdown",
   "metadata": {},
   "source": [
    "### CO"
   ]
  },
  {
   "cell_type": "code",
   "execution_count": 12,
   "metadata": {},
   "outputs": [],
   "source": [
    "co_df = pd.read_csv('hourly_42101_2016.zip', dtype={'Qualifier': 'object',\n",
    "                                                     'Date Local': 'object',\n",
    "                                                     'Time Local': 'object',\n",
    "                                                     'Date GMT': 'object',\n",
    "                                                     'Time GMT': 'object'})"
   ]
  },
  {
   "cell_type": "markdown",
   "metadata": {},
   "source": [
    "Look at current data schema:"
   ]
  },
  {
   "cell_type": "code",
   "execution_count": 13,
   "metadata": {},
   "outputs": [
    {
     "name": "stdout",
     "output_type": "stream",
     "text": [
      "<class 'pandas.core.frame.DataFrame'>\n",
      "RangeIndex: 2425038 entries, 0 to 2425037\n",
      "Data columns (total 24 columns):\n",
      "State Code             int64\n",
      "County Code            int64\n",
      "Site Num               int64\n",
      "Parameter Code         int64\n",
      "POC                    int64\n",
      "Latitude               float64\n",
      "Longitude              float64\n",
      "Datum                  object\n",
      "Parameter Name         object\n",
      "Date Local             object\n",
      "Time Local             object\n",
      "Date GMT               object\n",
      "Time GMT               object\n",
      "Sample Measurement     float64\n",
      "Units of Measure       object\n",
      "MDL                    float64\n",
      "Uncertainty            float64\n",
      "Qualifier              object\n",
      "Method Type            object\n",
      "Method Code            int64\n",
      "Method Name            object\n",
      "State Name             object\n",
      "County Name            object\n",
      "Date of Last Change    object\n",
      "dtypes: float64(5), int64(6), object(13)\n",
      "memory usage: 444.0+ MB\n"
     ]
    }
   ],
   "source": [
    "co_df.info()"
   ]
  },
  {
   "cell_type": "markdown",
   "metadata": {},
   "source": [
    "As expected, the CO data schema looks the same.\n",
    "There are fewer values for CO versus Temperature."
   ]
  },
  {
   "cell_type": "code",
   "execution_count": 14,
   "metadata": {},
   "outputs": [
    {
     "data": {
      "text/plain": [
       "0    Parts per million\n",
       "Name: Units of Measure, dtype: object"
      ]
     },
     "execution_count": 14,
     "metadata": {},
     "output_type": "execute_result"
    }
   ],
   "source": [
    "co_df['Units of Measure'].drop_duplicates()"
   ]
  },
  {
   "cell_type": "markdown",
   "metadata": {},
   "source": [
    "Similar to temperature, all rows seem to be the same unit of measure."
   ]
  },
  {
   "cell_type": "code",
   "execution_count": 15,
   "metadata": {},
   "outputs": [
    {
     "data": {
      "text/html": [
       "<div>\n",
       "<style scoped>\n",
       "    .dataframe tbody tr th:only-of-type {\n",
       "        vertical-align: middle;\n",
       "    }\n",
       "\n",
       "    .dataframe tbody tr th {\n",
       "        vertical-align: top;\n",
       "    }\n",
       "\n",
       "    .dataframe thead th {\n",
       "        text-align: right;\n",
       "    }\n",
       "</style>\n",
       "<table border=\"1\" class=\"dataframe\">\n",
       "  <thead>\n",
       "    <tr style=\"text-align: right;\">\n",
       "      <th></th>\n",
       "      <th>Site Num</th>\n",
       "      <th>Latitude</th>\n",
       "      <th>Longitude</th>\n",
       "    </tr>\n",
       "  </thead>\n",
       "  <tbody>\n",
       "    <tr>\n",
       "      <th>1019455</th>\n",
       "      <td>1</td>\n",
       "      <td>30.092500</td>\n",
       "      <td>-84.161111</td>\n",
       "    </tr>\n",
       "    <tr>\n",
       "      <th>1944960</th>\n",
       "      <td>1</td>\n",
       "      <td>39.920020</td>\n",
       "      <td>-77.309680</td>\n",
       "    </tr>\n",
       "    <tr>\n",
       "      <th>2367839</th>\n",
       "      <td>1</td>\n",
       "      <td>43.466111</td>\n",
       "      <td>-88.621111</td>\n",
       "    </tr>\n",
       "    <tr>\n",
       "      <th>415367</th>\n",
       "      <td>1</td>\n",
       "      <td>37.972310</td>\n",
       "      <td>-122.520004</td>\n",
       "    </tr>\n",
       "    <tr>\n",
       "      <th>1343132</th>\n",
       "      <td>1</td>\n",
       "      <td>42.228620</td>\n",
       "      <td>-83.208200</td>\n",
       "    </tr>\n",
       "    <tr>\n",
       "      <th>553211</th>\n",
       "      <td>1</td>\n",
       "      <td>34.893980</td>\n",
       "      <td>-117.024804</td>\n",
       "    </tr>\n",
       "    <tr>\n",
       "      <th>520827</th>\n",
       "      <td>2</td>\n",
       "      <td>38.712090</td>\n",
       "      <td>-121.381090</td>\n",
       "    </tr>\n",
       "    <tr>\n",
       "      <th>267048</th>\n",
       "      <td>2</td>\n",
       "      <td>37.360684</td>\n",
       "      <td>-118.330783</td>\n",
       "    </tr>\n",
       "    <tr>\n",
       "      <th>292141</th>\n",
       "      <td>2</td>\n",
       "      <td>34.136500</td>\n",
       "      <td>-117.923910</td>\n",
       "    </tr>\n",
       "    <tr>\n",
       "      <th>2221549</th>\n",
       "      <td>2</td>\n",
       "      <td>40.253611</td>\n",
       "      <td>-111.663056</td>\n",
       "    </tr>\n",
       "  </tbody>\n",
       "</table>\n",
       "</div>"
      ],
      "text/plain": [
       "         Site Num   Latitude   Longitude\n",
       "1019455         1  30.092500  -84.161111\n",
       "1944960         1  39.920020  -77.309680\n",
       "2367839         1  43.466111  -88.621111\n",
       "415367          1  37.972310 -122.520004\n",
       "1343132         1  42.228620  -83.208200\n",
       "553211          1  34.893980 -117.024804\n",
       "520827          2  38.712090 -121.381090\n",
       "267048          2  37.360684 -118.330783\n",
       "292141          2  34.136500 -117.923910\n",
       "2221549         2  40.253611 -111.663056"
      ]
     },
     "execution_count": 15,
     "metadata": {},
     "output_type": "execute_result"
    }
   ],
   "source": [
    "co_df[['Site Num', 'Latitude', 'Longitude']].drop_duplicates().sort_values('Site Num').head(10)"
   ]
  },
  {
   "cell_type": "markdown",
   "metadata": {},
   "source": [
    "Similar to temperature, the measurement locations are different even at the same site."
   ]
  },
  {
   "cell_type": "markdown",
   "metadata": {},
   "source": [
    "### Combining the Data"
   ]
  },
  {
   "cell_type": "markdown",
   "metadata": {},
   "source": [
    "After attempting to join/merge the data sources, it became obvious that a bigger bucket for aggregation was needed because of multiple listings, multiple lattitude/longitude pairs per site, or more sites for some readings and not others. Therefore the data will be grouped by state and day (loacl), then statistics of high, low, average, count, and standard deviation will be generated.\n",
    "\n",
    "Checking the potential list of tables for the schema from before:\n",
    "+ ~~Method Type and Method Code, Method Name~~ if grouped, the measurement methods aren't all the same\n",
    "+ State Name and State Code\n",
    "+ ~~County Code and County Name~~ if grouped by state, the counties won't be the same\n",
    "+ ~~Site Num, Latitude, Longitude~~ if grouped, the sites and lat,long data won't be the same\n",
    "+ ~~Parameter Name, Parameter Code~~ this will be a column in the fact table.\n",
    "\n",
    "Unfortunately, the grouping eliminates a lot of the potential on making lots of tables. The only real potential is to make some summary statistic tables and then some pivot tables for timeseries trends, which was the ultimate goal anyways."
   ]
  },
  {
   "cell_type": "code",
   "execution_count": 16,
   "metadata": {},
   "outputs": [
    {
     "data": {
      "text/plain": [
       "['State Code',\n",
       " 'County Code',\n",
       " 'Site Num',\n",
       " 'Parameter Code',\n",
       " 'POC',\n",
       " 'Latitude',\n",
       " 'Longitude',\n",
       " 'Datum',\n",
       " 'Parameter Name',\n",
       " 'Date Local',\n",
       " 'Time Local',\n",
       " 'Date GMT',\n",
       " 'Time GMT',\n",
       " 'Sample Measurement',\n",
       " 'Units of Measure',\n",
       " 'MDL',\n",
       " 'Uncertainty',\n",
       " 'Qualifier',\n",
       " 'Method Type',\n",
       " 'Method Code',\n",
       " 'Method Name',\n",
       " 'State Name',\n",
       " 'County Name',\n",
       " 'Date of Last Change']"
      ]
     },
     "execution_count": 16,
     "metadata": {},
     "output_type": "execute_result"
    }
   ],
   "source": [
    "# check column names\n",
    "temp_df.columns.to_list()"
   ]
  },
  {
   "cell_type": "markdown",
   "metadata": {},
   "source": [
    "Since aggregation is by state and day, all that's needed is 'Date Local', 'State Name', and 'Sample Measurement'."
   ]
  },
  {
   "cell_type": "code",
   "execution_count": 17,
   "metadata": {},
   "outputs": [],
   "source": [
    "# drop all columns but 'State Name', 'Date Local', 'Sample Measurement'\n",
    "temp_df = temp_df[['State Name', 'Date Local', 'Sample Measurement']]\n",
    "# rename columns to one word for easier reference\n",
    "temp_df.rename(columns={\"State Name\": \"state\",\n",
    "                        \"Date Local\": \"date\",\n",
    "                        \"Sample Measurement\": \"temperature\"},\n",
    "               inplace=True)"
   ]
  },
  {
   "cell_type": "code",
   "execution_count": 18,
   "metadata": {},
   "outputs": [],
   "source": [
    "# group by and aggregate\n",
    "# note: the aggregate function `agg` ended up being much faster than the `.describe()` method.\n",
    "temp_data_df = temp_df.groupby(['state', 'date'], as_index=False)['temperature'] \\\n",
    "                      .agg([pd.Series.count, np.min, np.max, np.mean, np.std]) \\\n",
    "                      .reset_index() \\\n",
    "                      .rename(columns={\"amin\": \"min\",\n",
    "                                       \"amax\": \"max\"}) \\\n",
    "                      .astype({\"count\": \"int64\"})"
   ]
  },
  {
   "cell_type": "code",
   "execution_count": 19,
   "metadata": {},
   "outputs": [
    {
     "data": {
      "text/html": [
       "<div>\n",
       "<style scoped>\n",
       "    .dataframe tbody tr th:only-of-type {\n",
       "        vertical-align: middle;\n",
       "    }\n",
       "\n",
       "    .dataframe tbody tr th {\n",
       "        vertical-align: top;\n",
       "    }\n",
       "\n",
       "    .dataframe thead th {\n",
       "        text-align: right;\n",
       "    }\n",
       "</style>\n",
       "<table border=\"1\" class=\"dataframe\">\n",
       "  <thead>\n",
       "    <tr style=\"text-align: right;\">\n",
       "      <th></th>\n",
       "      <th>state</th>\n",
       "      <th>date</th>\n",
       "      <th>count</th>\n",
       "      <th>min</th>\n",
       "      <th>max</th>\n",
       "      <th>mean</th>\n",
       "      <th>std</th>\n",
       "    </tr>\n",
       "  </thead>\n",
       "  <tbody>\n",
       "    <tr>\n",
       "      <th>0</th>\n",
       "      <td>Alabama</td>\n",
       "      <td>2016-01-01</td>\n",
       "      <td>48</td>\n",
       "      <td>35.4</td>\n",
       "      <td>43.5</td>\n",
       "      <td>38.925000</td>\n",
       "      <td>2.270299</td>\n",
       "    </tr>\n",
       "    <tr>\n",
       "      <th>1</th>\n",
       "      <td>Alabama</td>\n",
       "      <td>2016-01-02</td>\n",
       "      <td>48</td>\n",
       "      <td>32.9</td>\n",
       "      <td>46.4</td>\n",
       "      <td>38.339583</td>\n",
       "      <td>4.060539</td>\n",
       "    </tr>\n",
       "    <tr>\n",
       "      <th>2</th>\n",
       "      <td>Alabama</td>\n",
       "      <td>2016-01-03</td>\n",
       "      <td>48</td>\n",
       "      <td>32.0</td>\n",
       "      <td>50.5</td>\n",
       "      <td>40.785417</td>\n",
       "      <td>6.023818</td>\n",
       "    </tr>\n",
       "    <tr>\n",
       "      <th>3</th>\n",
       "      <td>Alabama</td>\n",
       "      <td>2016-01-04</td>\n",
       "      <td>48</td>\n",
       "      <td>30.2</td>\n",
       "      <td>43.0</td>\n",
       "      <td>36.147917</td>\n",
       "      <td>3.576400</td>\n",
       "    </tr>\n",
       "    <tr>\n",
       "      <th>4</th>\n",
       "      <td>Alabama</td>\n",
       "      <td>2016-01-05</td>\n",
       "      <td>48</td>\n",
       "      <td>29.5</td>\n",
       "      <td>47.7</td>\n",
       "      <td>37.666667</td>\n",
       "      <td>5.953270</td>\n",
       "    </tr>\n",
       "  </tbody>\n",
       "</table>\n",
       "</div>"
      ],
      "text/plain": [
       "     state        date  count   min   max       mean       std\n",
       "0  Alabama  2016-01-01     48  35.4  43.5  38.925000  2.270299\n",
       "1  Alabama  2016-01-02     48  32.9  46.4  38.339583  4.060539\n",
       "2  Alabama  2016-01-03     48  32.0  50.5  40.785417  6.023818\n",
       "3  Alabama  2016-01-04     48  30.2  43.0  36.147917  3.576400\n",
       "4  Alabama  2016-01-05     48  29.5  47.7  37.666667  5.953270"
      ]
     },
     "execution_count": 19,
     "metadata": {},
     "output_type": "execute_result"
    }
   ],
   "source": [
    "temp_data_df.head()"
   ]
  },
  {
   "cell_type": "markdown",
   "metadata": {},
   "source": [
    "Now comes the implementation:\n",
    "+ downloading data\n",
    "+ loading into pandas\n",
    "+ generating summary statistics\n",
    "+ uploading to tables\n",
    "+ generating pivot tables"
   ]
  },
  {
   "cell_type": "code",
   "execution_count": 21,
   "metadata": {},
   "outputs": [],
   "source": [
    "# clean up test files\n",
    "os.remove('hourly_TEMP_2016.zip')\n",
    "os.remove('hourly_42101_2016.zip')"
   ]
  },
  {
   "cell_type": "code",
   "execution_count": null,
   "metadata": {},
   "outputs": [],
   "source": []
  }
 ],
 "metadata": {
  "kernelspec": {
   "display_name": "Python 3",
   "language": "python",
   "name": "python3"
  },
  "language_info": {
   "codemirror_mode": {
    "name": "ipython",
    "version": 3
   },
   "file_extension": ".py",
   "mimetype": "text/x-python",
   "name": "python",
   "nbconvert_exporter": "python",
   "pygments_lexer": "ipython3",
   "version": "3.6.3"
  }
 },
 "nbformat": 4,
 "nbformat_minor": 2
}
